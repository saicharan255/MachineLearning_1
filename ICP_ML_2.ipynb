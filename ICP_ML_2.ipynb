{
  "nbformat": 4,
  "nbformat_minor": 0,
  "metadata": {
    "colab": {
      "provenance": []
    },
    "kernelspec": {
      "name": "python3",
      "display_name": "Python 3"
    },
    "language_info": {
      "name": "python"
    }
  },
  "cells": [
    {
      "cell_type": "code",
      "execution_count": 15,
      "metadata": {
        "colab": {
          "base_uri": "https://localhost:8080/"
        },
        "id": "EUluHV5egWWf",
        "outputId": "aa7b9fd0-f8ca-4c39-eed6-b5bcd90a5048"
      },
      "outputs": [
        {
          "output_type": "stream",
          "name": "stdout",
          "text": [
            "*\n",
            "**\n",
            "***\n",
            "****\n",
            "*****\n",
            "****\n",
            "***\n",
            "**\n",
            "*\n"
          ]
        }
      ],
      "source": [
        "#qustion 1\n",
        "# Number of rows in the pattern\n",
        "rows = 5\n",
        "# Loop for the first half of the pattern\n",
        "for i in range(1, rows + 1):\n",
        "    # Print stars in the current row\n",
        "    print(\"*\" * i)\n",
        "# Loop for the second half of the pattern\n",
        "for i in range(rows - 1, 0, -1):\n",
        "    # Print stars in the current row\n",
        "    print(\"*\" * i)"
      ]
    },
    {
      "cell_type": "code",
      "source": [
        "# question 2\n",
        "# List of numbers\n",
        "my_list = [10, 20, 30, 40, 50, 60, 70, 80, 90, 100]\n",
        "# Loop through the list with a step of 2\n",
        "for i in range(1, len(my_list), 2):\n",
        "    # Print the element at the current index\n",
        "    print(my_list[i])"
      ],
      "metadata": {
        "colab": {
          "base_uri": "https://localhost:8080/"
        },
        "id": "bZGndVqRg91X",
        "outputId": "58209a46-690c-4489-971d-2724f4b1fe75"
      },
      "execution_count": 16,
      "outputs": [
        {
          "output_type": "stream",
          "name": "stdout",
          "text": [
            "20\n",
            "40\n",
            "60\n",
            "80\n",
            "100\n"
          ]
        }
      ]
    },
    {
      "cell_type": "code",
      "source": [
        "#question 3\n",
        "# List of elements\n",
        "elements = [23, 'Python', 23.98]\n",
        "types = []\n",
        "# Loop through the elements\n",
        "for elem in elements:\n",
        "    # Add the type of the element to the types list\n",
        "    types.append(type(elem))\n",
        "# Print the original list and list of types\n",
        "print(elements)\n",
        "print(types)"
      ],
      "metadata": {
        "colab": {
          "base_uri": "https://localhost:8080/"
        },
        "id": "e9ymZyLuhkHT",
        "outputId": "47858a2c-e2db-491d-d255-1013461cb776"
      },
      "execution_count": 12,
      "outputs": [
        {
          "output_type": "stream",
          "name": "stdout",
          "text": [
            "[23, 'Python', 23.98]\n",
            "[<class 'int'>, <class 'str'>, <class 'float'>]\n"
          ]
        }
      ]
    },
    {
      "cell_type": "code",
      "source": [
        "#question 4\n",
        "# Function to find unique elements in a list\n",
        "def unique_list(lst):\n",
        "    # Use the set function to remove duplicates and return a list\n",
        "    return list(set(lst))\n",
        "# Sample list with duplicates\n",
        "sample_list = [1, 2, 3, 3, 3, 3, 4, 5]\n",
        "# Call the function and print the result\n",
        "print(unique_list(sample_list))"
      ],
      "metadata": {
        "colab": {
          "base_uri": "https://localhost:8080/"
        },
        "id": "BMo-TIklh8Y1",
        "outputId": "8cf64460-007e-4027-9db4-0e79aaf45d94"
      },
      "execution_count": 13,
      "outputs": [
        {
          "output_type": "stream",
          "name": "stdout",
          "text": [
            "[1, 2, 3, 4, 5]\n"
          ]
        }
      ]
    },
    {
      "cell_type": "code",
      "source": [
        "#question 5\n",
        "# Function to count upper and lower case characters\n",
        "def case_count(string):\n",
        "    # Initialization\n",
        "    upper_count = 0\n",
        "    lower_count = 0\n",
        "    # Iterate through each character in the string\n",
        "    for char in string:\n",
        "        # Check if the character is upper case\n",
        "        if char.isupper():\n",
        "            # Increment the upper case count\n",
        "            upper_count += 1\n",
        "        # Check if the character is lower case\n",
        "        elif char.islower():\n",
        "            # Increment the lower case count\n",
        "            lower_count += 1\n",
        "    # Return both counts as a tuple\n",
        "    return (upper_count, lower_count)\n",
        "# Input string\n",
        "input_string = 'The quick Brow Fox'\n",
        "# Call the function and store the results\n",
        "upper_count, lower_count = case_count(input_string)\n",
        "# Print the results\n",
        "print(\"No. of Upper-case characters:\", upper_count)\n",
        "print(\"No. of Lower-case Characters:\", lower_count)"
      ],
      "metadata": {
        "colab": {
          "base_uri": "https://localhost:8080/"
        },
        "id": "8joX2E6iiNU9",
        "outputId": "f0fd2d5f-e582-465d-b30c-2ac289b0580d"
      },
      "execution_count": 14,
      "outputs": [
        {
          "output_type": "stream",
          "name": "stdout",
          "text": [
            "No. of Upper-case characters: 3\n",
            "No. of Lower-case Characters: 12\n"
          ]
        }
      ]
    }
  ]
}