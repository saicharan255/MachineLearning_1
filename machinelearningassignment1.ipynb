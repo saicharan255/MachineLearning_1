{
  "nbformat": 4,
  "nbformat_minor": 0,
  "metadata": {
    "colab": {
      "provenance": []
    },
    "kernelspec": {
      "name": "python3",
      "display_name": "Python 3"
    },
    "language_info": {
      "name": "python"
    }
  },
  "cells": [
    {
      "cell_type": "code",
      "execution_count": 1,
      "metadata": {
        "colab": {
          "base_uri": "https://localhost:8080/"
        },
        "id": "Bjmrt9UMJ_Kh",
        "outputId": "aebec9bf-910a-4d15-e9bc-13c749950c3d"
      },
      "outputs": [
        {
          "output_type": "stream",
          "name": "stdout",
          "text": [
            "Sorted age: [19, 19, 20, 22, 24, 24, 24, 25, 25, 26]\n",
            "Min age: 19\n",
            "Max age: 26\n",
            "Added min and max values again: [19, 19, 20, 22, 24, 24, 24, 25, 25, 26, 19, 26]\n",
            "Median age: 24.0\n",
            "Avg age =  22.75\n",
            "Range =  7\n"
          ]
        }
      ],
      "source": [
        "#name: s jaya sai charan; student ID\n",
        "#question 1                 \n",
        "#Importing library called statistics which helps in calculating mathematical data\n",
        "import statistics   \n",
        "ages = [19, 22, 19, 24, 20, 25, 26, 24, 25, 24]\n",
        "# Sorts age list in ascending order by default\n",
        "ages.sort()\n",
        "print (\"Sorted age:\", ages) # Displays sorted values\n",
        "# Minimum age\n",
        "# Displays min value as we used min() method\n",
        "print (\"Min age:\", min(ages)) \n",
        "# Maximum age\n",
        " # Displays max value as we used max() method\n",
        "print (\"Max age:\", max(ages))\n",
        "# Adding again min and max values so we use append() method to insert values to the list\n",
        "ages.append(min(ages)) \n",
        "ages.append(max(ages))\n",
        "print (\"Added min and max values again:\",ages) #Displays the list again with new values\n",
        "# Median (one middle item or two middle items divided by two, as we imported statistics library it calculates easily and provides the opt)\n",
        "mdn_age = statistics.median(ages)\n",
        "print (\"Median age:\", mdn_age)\n",
        "# Average age\n",
        "average= sum(ages)/len(ages)\n",
        "print (\"Avg age = \", average)\n",
        "# Range\n",
        "rng=max(ages)-min(ages)\n",
        "print (\"Range = \", rng)\n"
      ]
    },
    {
      "cell_type": "code",
      "source": [
        "# Dog dictionary is created\n",
        "dog = {}\n",
        "print(\"empty dictionary dog is created\",dog)\n",
        "# keys and values are added to the dog\n",
        "dog = {\"name\":\"gipsy\",\"color\":\"black\",\"breed\":\"Doberman\",\"legs\":\"4\",\"age\":\"6\"}\n",
        "print (\"Dog Dictionary:\",dog)\n",
        "# Student dictionary is created with given key and values\n",
        "student = {\"first_name\":\"jaya sai charan\",\"last_name\":\"sammeta\",\"Gender\":\"male\",\"age\":\"23\",\"marital_status\":\"single\",\"skills\":[\"games\"],\"Country\":\"us\",\"City\":\"kansas\",\"Address\":\"111 oneplus street\"}\n",
        "print (\"Student Dictionary Created:\",student)\n",
        "# Find the length of student dictionary\n",
        "print (\"Length of student:\", len(student))\n",
        "# Check the datatype of skills\n",
        "print (\"Datatype fo skills:\",type(student[\"skills\"]))\n",
        "# Get values of skills dictionary\n",
        "print (\"value of skills:\",student[\"skills\"])\n",
        "# Add one item to skills\n",
        "student[\"skills\"].extend([\"Coder\"])\n",
        "print (\"New skill added:\",student[\"skills\"])\n",
        "# Get dog and student key and values\n",
        "print (\"Dog keys:\",dog.keys())\n",
        "print (\"Student values:\",student.values())\n",
        "\n",
        "\n"
      ],
      "metadata": {
        "colab": {
          "base_uri": "https://localhost:8080/"
        },
        "id": "zbS_35CAt9jH",
        "outputId": "d72019f5-9a4b-4393-d375-991794981417"
      },
      "execution_count": null,
      "outputs": [
        {
          "output_type": "stream",
          "name": "stdout",
          "text": [
            "empty dictionary dog is created {}\n",
            "Dog Dictionary: {'name': 'gipsy', 'color': 'black', 'breed': 'Doberman', 'legs': '4', 'age': '6'}\n",
            "Student Dictionary Created: {'first_name': 'jaya sai charan', 'last_name': 'sammeta', 'Gender': 'male', 'age': '23', 'marital_status': 'single', 'skills': ['games'], 'Country': 'us', 'City': 'kansas', 'Address': '111 oneplus street'}\n",
            "Length of student: 9\n",
            "Datatype fo skills: <class 'list'>\n",
            "value of skills: ['games']\n",
            "New skill added: ['games', 'Coder']\n",
            "Dog keys: dict_keys(['name', 'color', 'breed', 'legs', 'age'])\n",
            "Student values: dict_values(['jaya sai charan', 'sammeta', 'male', '23', 'single', ['games', 'Coder'], 'us', 'kansas', '111 oneplus street'])\n"
          ]
        }
      ]
    },
    {
      "cell_type": "code",
      "source": [
        "#question3\n",
        "# Create tuples my_sisters and my_brothers\n",
        "my_sisters = ('neelima', 'uma') \n",
        "my_brothers = ('ravi','karthik','surya')\n",
        "# Create another tuple as siblings and join the sister’s and brother’s tuple\n",
        "siblings = my_sisters + my_brothers\n",
        "# Displays siblings output and length of siblings\n",
        "print(\"Siblings:\", siblings)\n",
        "print(\"how many Siblings:\", len(siblings))\n",
        "# Create another tuple as family_members and add father and mother name to it\n",
        "family_members = siblings + ('lakshmi','venkat')\n",
        "# Displays family_members output\n",
        "print(\"Family_members:\",family_members)"
      ],
      "metadata": {
        "colab": {
          "base_uri": "https://localhost:8080/"
        },
        "id": "L0VOeG-jwX6O",
        "outputId": "afe9ac4e-4d6c-4c03-a0de-32516a4ea96d"
      },
      "execution_count": null,
      "outputs": [
        {
          "output_type": "stream",
          "name": "stdout",
          "text": [
            "Siblings: ('neelima', 'uma', 'ravi', 'karthik', 'surya')\n",
            "how many Siblings: 5\n",
            "Family_members: ('neelima', 'uma', 'ravi', 'karthik', 'surya', 'lakshmi', 'venkat')\n"
          ]
        }
      ]
    },
    {
      "cell_type": "code",
      "source": [
        "#question 4\n",
        "it_companies = {'Facebook', 'Google', 'Microsoft', 'Apple', 'IBM', 'Oracle', 'Amazon'}\n",
        "#finding length\n",
        "print(\"Length of it_companies:\", len(it_companies))\n",
        "#Add twitter\n",
        "it_companies.add('Twitter')\n",
        "print(\"After adding another item:\",it_companies)\n",
        "#Add multiple it_companies\n",
        "it_companies.update({'Infosys','Capgemini','Wipro','TCS'})\n",
        "print(\"After adding multiple items:\",it_companies)\n",
        "#Remove\n",
        "it_companies.remove('TCS')\n",
        "print(\"After removing one company:\",it_companies)\n",
        "#Discard\n",
        "it_companies.discard('TCS')\n",
        "print(\"After discarding  company:\",it_companies)\n",
        "#Discard doesn't raise any error if any item is not present in the set\n",
        "#Join A & B\n",
        "A = {19, 22, 24, 20, 25, 26}\n",
        "B = {19, 22, 20, 25, 26, 24, 28, 27} \n",
        "print(\"Join A and B:\", A.union(B))\n",
        "#Intersection\n",
        "print(\"Intersection of A and B:\", A.intersection(B))\n",
        "#Subset\n",
        "print(\"Subset of A and B:\", A.issubset(B))\n",
        "#Disjoint\n",
        "print(\"Disjoint:\", A.isdisjoint(B))\n",
        "#Convert list to set\n",
        "age = [22, 19, 24, 25, 26, 24, 25, 24]\n",
        "print(\"Converting list to set:\", set(age))\n",
        "#Length of set\n",
        "print(\"Length of set:\",len(set(age)))\n",
        "#Length of list\n",
        "print(\"Length of list:\",len(age))\n",
        "#Symmetric diff- returns values which are not in common with other set\n",
        "print(\"Symmetric diff:\",A.symmetric_difference(B))\n",
        "#delete set \n",
        "A.clear()\n",
        "print(A)\n",
        "B.clear()\n",
        "print(B)\n"
      ],
      "metadata": {
        "colab": {
          "base_uri": "https://localhost:8080/"
        },
        "id": "TeU-OuxUyEMx",
        "outputId": "55d48455-fcce-4851-fbc3-68aac3975c19"
      },
      "execution_count": null,
      "outputs": [
        {
          "output_type": "stream",
          "name": "stdout",
          "text": [
            "Length of it_companies: 7\n",
            "After adding another item: {'IBM', 'Amazon', 'Twitter', 'Microsoft', 'Apple', 'Oracle', 'Google', 'Facebook'}\n",
            "After adding multiple items: {'TCS', 'Infosys', 'IBM', 'Amazon', 'Twitter', 'Microsoft', 'Capgemini', 'Apple', 'Oracle', 'Wipro', 'Google', 'Facebook'}\n",
            "After removing one company: {'Infosys', 'IBM', 'Amazon', 'Twitter', 'Microsoft', 'Capgemini', 'Apple', 'Oracle', 'Wipro', 'Google', 'Facebook'}\n",
            "After discarding  company: {'Infosys', 'IBM', 'Amazon', 'Twitter', 'Microsoft', 'Capgemini', 'Apple', 'Oracle', 'Wipro', 'Google', 'Facebook'}\n",
            "Join A and B: {19, 20, 22, 24, 25, 26, 27, 28}\n",
            "Intersection of A and B: {19, 20, 22, 24, 25, 26}\n",
            "Subset of A and B: True\n",
            "Disjoint: False\n",
            "Converting list to set: {19, 22, 24, 25, 26}\n",
            "Length of set: 5\n",
            "Length of list: 8\n",
            "Symmetric diff: {27, 28}\n",
            "set()\n",
            "set()\n"
          ]
        }
      ]
    },
    {
      "cell_type": "code",
      "source": [
        "#question 5\n",
        "# Initialise r where r value can be read from user inpt\n",
        "r = int(input(\"enter r:\"))\n",
        "# Calculate area of circle and circumference of circle\n",
        "_area_of_circle = 3.14*r*r \n",
        "_circum_of_circle = 2*3.14*r\n",
        "# Display area of circle and circumference of circle\n",
        "print(\"Area of Circle:\",_area_of_circle)\n",
        "print(\"Circumference of Circle:\",_circum_of_circle) \n"
      ],
      "metadata": {
        "colab": {
          "base_uri": "https://localhost:8080/"
        },
        "id": "bmKkDLJ506A_",
        "outputId": "ae63e1f4-765f-4544-a5ef-695645d4f4a9"
      },
      "execution_count": null,
      "outputs": [
        {
          "output_type": "stream",
          "name": "stdout",
          "text": [
            "enter r:30\n",
            "Area of Circle: 2826.0\n",
            "Circumference of Circle: 188.4\n"
          ]
        }
      ]
    },
    {
      "cell_type": "code",
      "source": [
        "#question 6\n",
        "#assigning a string to st\n",
        "st = \"I am a teacher and I love to inspire and teach people\"\n",
        "# Use split method to separate the words and set to get the unique values\n",
        "spt=set(st.split(\" \"))\n",
        "print(spt)\n",
        "#print length\n",
        "print(\"Length:\",len(spt))\n"
      ],
      "metadata": {
        "colab": {
          "base_uri": "https://localhost:8080/"
        },
        "id": "sg5rMxWy191R",
        "outputId": "242a79c8-9ae4-44c0-f18d-840c8ce94061"
      },
      "execution_count": null,
      "outputs": [
        {
          "output_type": "stream",
          "name": "stdout",
          "text": [
            "{'am', 'I', 'love', 'teach', 'teacher', 'to', 'a', 'and', 'people', 'inspire'}\n",
            "Length: 10\n"
          ]
        }
      ]
    },
    {
      "cell_type": "code",
      "source": [
        "#question 7\n",
        "# \\t indiactes white spaces tab character\n",
        "a= \"Name\\t Age\\tCountry\\tCity\\t\\nAsabeneh 250\\tFinland\\tHelsinki\"\n",
        "print(a) "
      ],
      "metadata": {
        "colab": {
          "base_uri": "https://localhost:8080/"
        },
        "id": "GeYMNUkp2Hqu",
        "outputId": "d4421a49-561f-4fcf-da94-2a8103a99d20"
      },
      "execution_count": null,
      "outputs": [
        {
          "output_type": "stream",
          "name": "stdout",
          "text": [
            "Name\t Age\tCountry\tCity\t\n",
            "Asabeneh 250\tFinland\tHelsinki\n"
          ]
        }
      ]
    },
    {
      "cell_type": "code",
      "source": [
        "#question 8\n",
        "#Using String format method \n",
        "print(f'radius = 10') \n",
        "print(f'area = 3.14*radius**2') \n",
        "print(f'\"The area of circle with radius {radius} is {3.14*radius*radius} meters square\"') \n"
      ],
      "metadata": {
        "colab": {
          "base_uri": "https://localhost:8080/"
        },
        "id": "hAWOtjfV2UnE",
        "outputId": "deffbdad-119d-4fcf-f01d-19c321575382"
      },
      "execution_count": null,
      "outputs": [
        {
          "output_type": "stream",
          "name": "stdout",
          "text": [
            "radius = 10\n",
            "area = 3.14*radius**2\n",
            "\"The area of circle with radius 10 is 314.0 meters square\"\n"
          ]
        }
      ]
    },
    {
      "cell_type": "code",
      "source": [
        "#question 9\n",
        "#Creating a list(L1) for weights(lbs) of N students\n",
        "L1=[int(num) for num in input().split(\" \")]\n",
        "#Creating another list called W_kg\n",
        "W_kg=[]\n",
        "#Using for loop to iterate the values and appending the list\n",
        "for i in L1:\n",
        "    W_kg.append(round(i/2.205,2))\n",
        "#Displaying the values in kgs after conversion\n",
        "print (\"Values are:\",W_kg)\n"
      ],
      "metadata": {
        "colab": {
          "base_uri": "https://localhost:8080/"
        },
        "id": "1vFcy7vV39ED",
        "outputId": "d2100067-5962-4d21-b62a-df3f399337ab"
      },
      "execution_count": null,
      "outputs": [
        {
          "output_type": "stream",
          "name": "stdout",
          "text": [
            "150 155 145 148\n",
            "Values are: [68.03, 70.29, 65.76, 67.12]\n"
          ]
        }
      ]
    }
  ]
}